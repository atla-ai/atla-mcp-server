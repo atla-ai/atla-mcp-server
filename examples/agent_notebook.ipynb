{
 "cells": [
  {
   "cell_type": "code",
   "execution_count": 1,
   "id": "1c4f50af",
   "metadata": {},
   "outputs": [],
   "source": [
    "from agents import Agent, Runner\n",
    "from agents.mcp import MCPServerStdio\n",
    "import os \n",
    "import json\n",
    "import sys \n",
    "\n",
    "# Check if API keys are set\n",
    "if not os.environ.get(\"ATLA_API_KEY\"):\n",
    "    raise ValueError(\"Please set the ATLA_API_KEY environment variable.\")\n",
    "if not os.environ.get(\"OPENAI_API_KEY\"):\n",
    "    raise ValueError(\"Please set the OPENAI_API_KEY environment variable.\")"
   ]
  },
  {
   "cell_type": "code",
   "execution_count": 2,
   "id": "6f6c2c70",
   "metadata": {},
   "outputs": [],
   "source": [
    "async def run_agent_with_atla(user_request):\n",
    "    async with MCPServerStdio(\n",
    "            params={\n",
    "                \"command\": \"python\",\n",
    "                \"args\": [\"../atla-mcp-server.py\"],\n",
    "                \"env\": {\"ATLA_API_KEY\":os.environ.get(\"ATLA_API_KEY\")}\n",
    "            }\n",
    "        ) as atla_mcp_server:\n",
    "            # Create an agent with the Atla evaluation server\n",
    "            agent = Agent(\n",
    "                name=\"AssistantWithAtlaEval\",\n",
    "                instructions=\"\"\"\n",
    "                You are a helpful assistant. Your goal is to provide high-quality responses to user requests.\n",
    "                You can use the Atla evaluation tool to improve your responses.\n",
    "                \"\"\",\n",
    "                mcp_servers=[atla_mcp_server], # You can equip any Agent with Atla's MCP server like this\n",
    "                model=\"gpt-4o-mini\"\n",
    "            )\n",
    "            \n",
    "            # Run the agent with the user request\n",
    "            result = await Runner.run(agent, user_request)\n",
    "            \n",
    "            # Print the MCP call result\n",
    "            for item in result.new_items:\n",
    "                if item.type == \"message_output_item\":\n",
    "                    print(\"\\n*******  Agent's response: ******\")\n",
    "                    print(item.raw_item.content[0].text)\n",
    "                elif item.type == 'tool_call_item':\n",
    "                    print(\"\\n*******  Agent's request to Atla tool: ******:\")\n",
    "                    print(json.loads(item.raw_item.arguments))\n",
    "                elif item.type == 'tool_call_output_item':\n",
    "                    print(\"\\n*******  Atla's response to Agent's request: ******:\")\n",
    "                    print(json.loads(item.output)['text'])"
   ]
  },
  {
   "cell_type": "code",
   "execution_count": 3,
   "id": "8235de2f",
   "metadata": {},
   "outputs": [
    {
     "name": "stdout",
     "output_type": "stream",
     "text": [
      "\n",
      "*******  Agent's request to Atla tool: ******:\n",
      "{'model_input': 'Write a one-line poem about the ocean.', 'model_output': 'The ocean whispers secrets to the shore.', 'evaluation_criteria': 'Assess the poem for originality and whether it falls into cliché territory, suggesting improvements if necessary.', 'expected_model_output': 'The poem is somewhat cliché as the concept of the ocean \"whispering secrets\" is a common metaphor in poetry. Suggest using more unique imagery or an unexpected perspective on the ocean.'}\n",
      "\n",
      "*******  Atla's response to Agent's request: ******:\n",
      "{\"score\": \"4\", \"critique\": \"The poem is somewhat clich\\u00e9 as the concept of the ocean \\\"whispering secrets\\\" is a common metaphor in poetry. Suggest using more unique imagery or an unexpected perspective on the ocean. To improve, consider adding sensory details or exploring the emotional resonance of the ocean's presence. For instance, the poem could describe the sound of the waves, the smell of the saltwater, or the feeling of the sand between the reader's toes. Additionally, the phrase \\\"to the shore\\\" could be rephrased for more specificity, such as \\\"to the weathered cliffs\\\" or \\\"to the moonlit beach.\\\" By incorporating these elements, the poem could transcend its familiar trope and offer a fresh, captivating experience for the reader.\"}\n",
      "\n",
      "*******  Agent's response: ******\n",
      "### Original Poem\n",
      "\"The ocean whispers secrets to the shore.\"\n",
      "\n",
      "### Evaluation\n",
      "**Score:** 4  \n",
      "**Critique:** The poem is somewhat cliché. The metaphor of the ocean \"whispering secrets\" is common in poetry. To improve, consider adding sensory details or exploring the emotional resonance of the ocean's presence. For instance, include the sound of waves, the smell of saltwater, or a more specific location like \"to the weathered cliffs.\"\n",
      "\n",
      "### Improved Poem\n",
      "\"The ocean roars tales of forgotten mariners to the weathered cliffs.\"\n"
     ]
    }
   ],
   "source": [
    "await run_agent_with_atla(user_request=\"Write a one-line poem about the ocean. Evaluate it for cliche and improve it once using the feedback.\")"
   ]
  }
 ],
 "metadata": {
  "kernelspec": {
   "display_name": ".venv",
   "language": "python",
   "name": "python3"
  },
  "language_info": {
   "codemirror_mode": {
    "name": "ipython",
    "version": 3
   },
   "file_extension": ".py",
   "mimetype": "text/x-python",
   "name": "python",
   "nbconvert_exporter": "python",
   "pygments_lexer": "ipython3",
   "version": "3.10.14"
  }
 },
 "nbformat": 4,
 "nbformat_minor": 5
}
